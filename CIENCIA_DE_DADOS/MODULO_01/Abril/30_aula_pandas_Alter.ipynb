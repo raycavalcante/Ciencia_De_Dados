{
 "cells": [
  {
   "cell_type": "code",
   "execution_count": 1,
   "id": "c56e1a3c-91b7-4266-913c-5916e9c91285",
   "metadata": {},
   "outputs": [],
   "source": [
    "import pandas as pd"
   ]
  },
  {
   "cell_type": "code",
   "execution_count": 2,
   "id": "5469dca1-4f94-4392-98ab-5838a2a46197",
   "metadata": {},
   "outputs": [],
   "source": [
    "vendas_df = pd.read_csv('Contoso - Vendas - 2017.csv', sep=';')\n",
    "promocoes_df = pd.read_csv('Contoso - Promocoes.csv', sep=';', encoding='latin-1')\n",
    "lojas_df = pd.read_csv('Contoso - Lojas.csv', sep=';', encoding='latin-1')\n",
    "clientes_df = pd.read_csv('Contoso - Clientes.csv', sep=';', encoding='latin-1')\n",
    "produtos_df = pd.read_csv('Contoso - Cadastro Produtos.csv', sep=';', encoding='latin-1')\n"
   ]
  },
  {
   "cell_type": "code",
   "execution_count": null,
   "id": "18bcdfcc-59a2-4015-b491-eeecdbab7b46",
   "metadata": {
    "scrolled": true
   },
   "outputs": [],
   "source": [
    "display(vendas_df)"
   ]
  },
  {
   "cell_type": "code",
   "execution_count": null,
   "id": "ad192548-3a74-4346-a9d6-b6b294992cdf",
   "metadata": {
    "scrolled": true
   },
   "outputs": [],
   "source": [
    "lista_colunas = ['ID Produto', 'Quantidade Vendida', 'Quantidade Devolvida']\n",
    "produtos_quantidade = vendas_df[lista_colunas]\n",
    "produtos_quantidade"
   ]
  },
  {
   "cell_type": "code",
   "execution_count": 5,
   "id": "1e753b8a-ff90-4f4b-b9e7-ec4191815a7c",
   "metadata": {},
   "outputs": [],
   "source": [
    "#Remover Colunas inuteis, eixo de colunas"
   ]
  },
  {
   "cell_type": "code",
   "execution_count": null,
   "id": "f267617e-fbe4-4b75-b070-a365a6912f74",
   "metadata": {},
   "outputs": [],
   "source": [
    "#display(clientes_df)\n",
    "#clientes_df = clientes_df.drop(['Unnamed: 7', \t'Unnamed: 8', \t'Unnamed: 9', \t'Unnamed: 10'], axis=1)\n",
    "display(clientes_df)\n"
   ]
  },
  {
   "cell_type": "code",
   "execution_count": 7,
   "id": "9ba9c748-fac4-453e-9b5a-15f89c15c447",
   "metadata": {},
   "outputs": [],
   "source": [
    "#Quero apenas as colunas\n",
    "clientes_df = clientes_df[['ID Cliente', 'E-mail']]\n",
    "produtos_df = produtos_df[['ID Produto', 'Nome do Produto']]\n",
    "lojas_df = lojas_df[['ID Loja', 'Nome da Loja']]"
   ]
  },
  {
   "cell_type": "code",
   "execution_count": 8,
   "id": "08223038-6367-4707-89af-d36564865b7e",
   "metadata": {},
   "outputs": [],
   "source": [
    "#Juntar as tabelas ()\n",
    "vendas_df = vendas_df.merge(produtos_df, on='ID Produto')\n",
    "vendas_df = vendas_df.merge(lojas_df, on='ID Loja')\n",
    "vendas_df = vendas_df.merge(clientes_df, on='ID Cliente')"
   ]
  }
 ],
 "metadata": {
  "kernelspec": {
   "display_name": "Python 3",
   "language": "python",
   "name": "python3"
  },
  "language_info": {
   "codemirror_mode": {
    "name": "ipython",
    "version": 3
   },
   "file_extension": ".py",
   "mimetype": "text/x-python",
   "name": "python",
   "nbconvert_exporter": "python",
   "pygments_lexer": "ipython3",
   "version": "3.12.7"
  }
 },
 "nbformat": 4,
 "nbformat_minor": 5
}
