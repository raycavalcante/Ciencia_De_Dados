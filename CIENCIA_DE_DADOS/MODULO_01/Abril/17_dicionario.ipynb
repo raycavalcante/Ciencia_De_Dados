{
 "cells": [
  {
   "cell_type": "markdown",
   "id": "7c02acd8-a65e-4655-96fc-ff082138667d",
   "metadata": {},
   "source": [
    "# aulas sobre dicionários python"
   ]
  },
  {
   "cell_type": "code",
   "execution_count": 4,
   "id": "cab33a3e-5095-42c7-849c-fcdbdb0a6f22",
   "metadata": {},
   "outputs": [],
   "source": [
    "dicionario_vazio = {}"
   ]
  },
  {
   "cell_type": "code",
   "execution_count": 2,
   "id": "fef8080a",
   "metadata": {},
   "outputs": [],
   "source": [
    "dicionario_preenchido = {\n",
    "    'nome' : 'Ray santos',\n",
    "    'idade' : 20\n",
    "}"
   ]
  },
  {
   "cell_type": "code",
   "execution_count": 17,
   "id": "caf2eaf4",
   "metadata": {},
   "outputs": [
    {
     "name": "stdout",
     "output_type": "stream",
     "text": [
      "Ray santos\n"
     ]
    }
   ],
   "source": [
    "# acesandoi um valor da chave\n",
    "nome = dicionario_preenchido['nome']\n",
    "print(nome)"
   ]
  },
  {
   "cell_type": "code",
   "execution_count": 18,
   "id": "e4cbe046",
   "metadata": {},
   "outputs": [
    {
     "name": "stdout",
     "output_type": "stream",
     "text": [
      "não encontrado\n"
     ]
    }
   ],
   "source": [
    "# acesando uma chave especifica que não exite \n",
    "# --------- get captura\n",
    "profisão = dicionario_preenchido.get('engenheiro', 'não encontrado')\n",
    "print(profisão)"
   ]
  },
  {
   "cell_type": "code",
   "execution_count": 19,
   "id": "a764afe1",
   "metadata": {},
   "outputs": [
    {
     "name": "stdout",
     "output_type": "stream",
     "text": [
      "Idade alterada:  {'nome': 'Ray santos', 'idade': 23}\n"
     ]
    }
   ],
   "source": [
    "# adicionando ou modificando um elemento do dicionario\n",
    "dicionario_preenchido['idade'] = 23\n",
    "print('Idade alterada: ',dicionario_preenchido)"
   ]
  },
  {
   "cell_type": "code",
   "execution_count": 20,
   "id": "093fa6b9",
   "metadata": {},
   "outputs": [
    {
     "name": "stdout",
     "output_type": "stream",
     "text": [
      "Alteração feita\n",
      "{'nome': 'Ray santos', 'idade': 23, 'profissao': 'Desenvolvedor Front-End'}\n"
     ]
    }
   ],
   "source": [
    "# adicionando uma nova chave e um novo valor \n",
    "dicionario_preenchido['profissao'] = 'Desenvolvedor Front-End'\n",
    "print(\"Alteração feita\")\n",
    "print(dicionario_preenchido)"
   ]
  },
  {
   "cell_type": "code",
   "execution_count": 33,
   "id": "fc98f25f",
   "metadata": {},
   "outputs": [
    {
     "name": "stdout",
     "output_type": "stream",
     "text": [
      "{'nome': 'Ray santos', 'profissao': 'Desenvolvedor Front-End'}\n",
      "-------------: Apagou\n"
     ]
    }
   ],
   "source": [
    "# remoevndo um elemnto especifico\n",
    "# o POP GUARDA ESS INFORMAÇÃO \n",
    "salvo_idade = dicionario_preenchido.pop('idade', 'Apagou')\n",
    "print(dicionario_preenchido)\n",
    "print('-------------:',salvo_idade)"
   ]
  },
  {
   "cell_type": "code",
   "execution_count": null,
   "id": "39b6c414",
   "metadata": {},
   "outputs": [
    {
     "name": "stdout",
     "output_type": "stream",
     "text": [
      "dict_keys(['nome', 'idade'])\n"
     ]
    }
   ],
   "source": [
    "# para escluir o dicionario usamos o del \n",
    "# ------------------------------------------- \n",
    "# para identificarmos as chaves dos dicionario usamos o keys() \n",
    "todas_chaves = dicionario_preenchido.keys()\n",
    "print(todas_chaves)"
   ]
  },
  {
   "cell_type": "code",
   "execution_count": 4,
   "id": "54a86856",
   "metadata": {},
   "outputs": [
    {
     "name": "stdout",
     "output_type": "stream",
     "text": [
      "dict_values(['Ray santos', 20])\n"
     ]
    }
   ],
   "source": [
    "# para identificarmos os valores das chaves usamos o values\n",
    "valores_dicionario = dicionario_preenchido.values()\n",
    "print(valores_dicionario)"
   ]
  },
  {
   "cell_type": "code",
   "execution_count": 6,
   "id": "bb0a0665",
   "metadata": {},
   "outputs": [
    {
     "name": "stdout",
     "output_type": "stream",
     "text": [
      "nome  -  Ray santos\n",
      "idade  -  20\n"
     ]
    }
   ],
   "source": [
    "# podemos fazer iteração no dicionario \n",
    "for chave, valor in dicionario_preenchido.items():\n",
    "    print(chave,' - ',valor)"
   ]
  },
  {
   "cell_type": "code",
   "execution_count": null,
   "id": "24d2327e",
   "metadata": {},
   "outputs": [],
   "source": []
  }
 ],
 "metadata": {
  "kernelspec": {
   "display_name": "Python 3",
   "language": "python",
   "name": "python3"
  },
  "language_info": {
   "codemirror_mode": {
    "name": "ipython",
    "version": 3
   },
   "file_extension": ".py",
   "mimetype": "text/x-python",
   "name": "python",
   "nbconvert_exporter": "python",
   "pygments_lexer": "ipython3",
   "version": "3.13.1"
  }
 },
 "nbformat": 4,
 "nbformat_minor": 5
}
