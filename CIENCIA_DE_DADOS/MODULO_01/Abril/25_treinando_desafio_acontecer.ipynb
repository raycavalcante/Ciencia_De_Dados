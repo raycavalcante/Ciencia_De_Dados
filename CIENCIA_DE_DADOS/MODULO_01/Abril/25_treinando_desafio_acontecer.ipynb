{
 "cells": [
  {
   "cell_type": "code",
   "execution_count": 2,
   "id": "c1ac3e90-c9bc-4fe7-bc27-012a637a5374",
   "metadata": {},
   "outputs": [
    {
     "name": "stdout",
     "output_type": "stream",
     "text": [
      "1.26.4\n"
     ]
    }
   ],
   "source": [
    "# quais numeros se repetirão nos ultimoss 5 anos de mega sena \n",
    "import numpy as np \n",
    "print(np.__version__)"
   ]
  },
  {
   "cell_type": "code",
   "execution_count": 12,
   "id": "9c584cf4-49bb-4373-9e08-4db73fad93b1",
   "metadata": {},
   "outputs": [
    {
     "name": "stdout",
     "output_type": "stream",
     "text": [
      "[[17 20 22 35 41 42]\n",
      " [ 2 15 23 32 33 46]\n",
      " [ 4  5 10 34 58 59]\n",
      " [21 24 33 41 48 56]\n",
      " [ 1 17 19 29 50 57]]\n"
     ]
    }
   ],
   "source": [
    "matriz_numeros = np.array([[17, 20, 22, 35, 41, 42],[2, 15, 23, 32, 33, 46],[4, 5, 10, 34, 58, 59],[21, 24, 33, 41, 48, 56],[1, 17, 19, 29, 50, 57]])\n",
    "print(matriz_numeros)"
   ]
  },
  {
   "cell_type": "code",
   "execution_count": 20,
   "id": "a7ead09d-5f36-49ea-96c4-fbe36f5820ac",
   "metadata": {},
   "outputs": [
    {
     "name": "stdout",
     "output_type": "stream",
     "text": [
      "Valor 1 repeti 1 \n",
      "Valor 2 repeti 1 \n",
      "Valor 4 repeti 1 \n",
      "Valor 5 repeti 1 \n",
      "Valor 10 repeti 1 \n",
      "Valor 15 repeti 1 \n",
      "Valor 17 repeti 2 \n",
      "Valor 19 repeti 1 \n",
      "Valor 20 repeti 1 \n",
      "Valor 21 repeti 1 \n",
      "Valor 22 repeti 1 \n",
      "Valor 23 repeti 1 \n",
      "Valor 24 repeti 1 \n",
      "Valor 29 repeti 1 \n",
      "Valor 32 repeti 1 \n",
      "Valor 33 repeti 2 \n",
      "Valor 34 repeti 1 \n",
      "Valor 35 repeti 1 \n",
      "Valor 41 repeti 2 \n",
      "Valor 42 repeti 1 \n",
      "Valor 46 repeti 1 \n",
      "Valor 48 repeti 1 \n",
      "Valor 50 repeti 1 \n",
      "Valor 56 repeti 1 \n",
      "Valor 57 repeti 1 \n",
      "Valor 58 repeti 1 \n",
      "Valor 59 repeti 1 \n"
     ]
    }
   ],
   "source": [
    "# revificando quais números se repetem \n",
    "valor_unico , contagem = np.unique(matriz_numeros, return_counts=True)\n",
    "for valor, cont in zip(valor_unico, contagem):\n",
    "    print(\"Valor {} repeti {} \".format(valor, cont))"
   ]
  },
  {
   "cell_type": "code",
   "execution_count": 18,
   "id": "97a47a06-b01b-4326-87e2-058c5def1bc4",
   "metadata": {},
   "outputs": [
    {
     "name": "stdout",
     "output_type": "stream",
     "text": [
      "O valor que se repeti mais é: \n",
      "Valor 17 - repeti 2 \n",
      "Valor 33 - repeti 2 \n",
      "Valor 41 - repeti 2 \n"
     ]
    }
   ],
   "source": [
    "# qual valor se repeti mais\n",
    "repeti = valor_repeti = 0 \n",
    "indice = 1\n",
    "print('O valor que se repeti mais é: ')\n",
    "for valor, cont in zip(valor_unico, contagem):\n",
    "    if cont > indice:\n",
    "        valor_repeti = valor\n",
    "        repeti = cont\n",
    "        print('Valor {} - repeti {} '.format(valor_repeti, repeti))"
   ]
  },
  {
   "cell_type": "code",
   "execution_count": 19,
   "id": "d9980b25-b286-424d-93fb-ee93c3fe2a19",
   "metadata": {},
   "outputs": [
    {
     "name": "stdout",
     "output_type": "stream",
     "text": [
      "O valor que se repeti menos é: \n",
      "Valor 1 - repeti 1 \n",
      "Valor 2 - repeti 1 \n",
      "Valor 4 - repeti 1 \n",
      "Valor 5 - repeti 1 \n",
      "Valor 10 - repeti 1 \n",
      "Valor 15 - repeti 1 \n",
      "Valor 19 - repeti 1 \n",
      "Valor 20 - repeti 1 \n",
      "Valor 21 - repeti 1 \n",
      "Valor 22 - repeti 1 \n",
      "Valor 23 - repeti 1 \n",
      "Valor 24 - repeti 1 \n",
      "Valor 29 - repeti 1 \n",
      "Valor 32 - repeti 1 \n",
      "Valor 34 - repeti 1 \n",
      "Valor 35 - repeti 1 \n",
      "Valor 42 - repeti 1 \n",
      "Valor 46 - repeti 1 \n",
      "Valor 48 - repeti 1 \n",
      "Valor 50 - repeti 1 \n",
      "Valor 56 - repeti 1 \n",
      "Valor 57 - repeti 1 \n",
      "Valor 58 - repeti 1 \n",
      "Valor 59 - repeti 1 \n"
     ]
    }
   ],
   "source": [
    "# qual valor se repeti menos\n",
    "repeti = valor_repeti = 0 \n",
    "indice = 1\n",
    "print('O valor que se repeti menos é: ')\n",
    "for valor, cont in zip(valor_unico, contagem):\n",
    "    if cont <= indice:\n",
    "        valor_repeti = valor\n",
    "        repeti = cont\n",
    "        print('Valor {} - repeti {} '.format(valor_repeti, repeti))"
   ]
  },
  {
   "cell_type": "code",
   "execution_count": 29,
   "id": "465d4b8a-12cd-4f39-84fc-2042be5f932d",
   "metadata": {},
   "outputs": [
    {
     "name": "stdout",
     "output_type": "stream",
     "text": [
      "Soma dos valores por ano: \n",
      "Ano de 2020 =  177\n",
      "Ano de 2021 =  151\n",
      "Ano de 2022 =  170\n",
      "Ano de 2023 =  223\n",
      "Ano de 2024 =  173\n"
     ]
    }
   ],
   "source": [
    "# soma dos numeros de cada ano\n",
    "anos = len(matriz_numeros)\n",
    "ano = [0,1,2,3,4]\n",
    "print('Soma dos valores por ano: ')\n",
    "soma_ano = 0\n",
    "for i in range(anos):\n",
    "    soma_ano = np.sum(matriz_numeros[i])\n",
    "    print(f'Ano de 202{ano[i]} = ',soma_ano)"
   ]
  },
  {
   "cell_type": "code",
   "execution_count": 31,
   "id": "a9035ad4-38b2-43b7-9c8a-3acf5dfde01b",
   "metadata": {},
   "outputs": [
    {
     "name": "stdout",
     "output_type": "stream",
     "text": [
      "Soma dos valores por 5 anos: \n",
      "Soma:  894\n"
     ]
    }
   ],
   "source": [
    "# soma dos numeros por 5 anos\n",
    "anos = len(matriz_numeros)\n",
    "ano = [0,1,2,3,4]\n",
    "print('Soma dos valores por 5 anos: ')\n",
    "soma_anos = np.sum(matriz_numeros)\n",
    "print('Soma: ',soma_anos)\n"
   ]
  },
  {
   "cell_type": "code",
   "execution_count": 32,
   "id": "390ee2b8-bcd4-45f8-abb4-0639fb7f274c",
   "metadata": {},
   "outputs": [
    {
     "name": "stdout",
     "output_type": "stream",
     "text": [
      "1\n"
     ]
    }
   ],
   "source": [
    "# Menor número da matriz \n",
    "menor_num = np.min(matriz_numeros)\n",
    "print(menor_num)"
   ]
  },
  {
   "cell_type": "code",
   "execution_count": null,
   "id": "d80f9323-4040-4456-a301-b1b2e3266e66",
   "metadata": {},
   "outputs": [],
   "source": [
    "# Maior vlor da matrtiz\n",
    "maior_valor = np.max(matriz"
   ]
  }
 ],
 "metadata": {
  "kernelspec": {
   "display_name": "Python 3 (ipykernel)",
   "language": "python",
   "name": "python3"
  },
  "language_info": {
   "codemirror_mode": {
    "name": "ipython",
    "version": 3
   },
   "file_extension": ".py",
   "mimetype": "text/x-python",
   "name": "python",
   "nbconvert_exporter": "python",
   "pygments_lexer": "ipython3",
   "version": "3.12.7"
  }
 },
 "nbformat": 4,
 "nbformat_minor": 5
}
