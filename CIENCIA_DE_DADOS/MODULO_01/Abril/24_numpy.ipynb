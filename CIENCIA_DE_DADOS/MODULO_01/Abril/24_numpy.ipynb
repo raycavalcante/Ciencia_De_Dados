{
 "cells": [
  {
   "cell_type": "code",
   "execution_count": 2,
   "metadata": {},
   "outputs": [],
   "source": [
    "import numpy as np\n"
   ]
  },
  {
   "cell_type": "code",
   "execution_count": 7,
   "metadata": {},
   "outputs": [
    {
     "name": "stdout",
     "output_type": "stream",
     "text": [
      "['a' 'b' 'c' 'd']\n"
     ]
    }
   ],
   "source": [
    "array_letras = np.array(['a','b','c','d'])\n",
    "print(array_letras)"
   ]
  },
  {
   "cell_type": "code",
   "execution_count": 8,
   "metadata": {},
   "outputs": [
    {
     "name": "stdout",
     "output_type": "stream",
     "text": [
      "a\n"
     ]
    }
   ],
   "source": [
    "# Acessando uma posição do array \n",
    "print(array_letras[0])"
   ]
  },
  {
   "cell_type": "code",
   "execution_count": 9,
   "metadata": {},
   "outputs": [
    {
     "name": "stdout",
     "output_type": "stream",
     "text": [
      "['a' 'b']\n"
     ]
    }
   ],
   "source": [
    "# Acessando posições derterminadas \n",
    "print(array_letras[0:2])"
   ]
  },
  {
   "cell_type": "markdown",
   "metadata": {},
   "source": [
    "## desempenho do numpy"
   ]
  },
  {
   "cell_type": "code",
   "execution_count": 10,
   "metadata": {},
   "outputs": [],
   "source": [
    "import numpy as np\n",
    "import time"
   ]
  },
  {
   "cell_type": "code",
   "execution_count": 12,
   "metadata": {},
   "outputs": [
    {
     "name": "stdout",
     "output_type": "stream",
     "text": [
      "Tempo de excução LISTA:>  0.045572519302368164\n",
      "Tempo de excução ARRAY:>  0.6452925205230713\n"
     ]
    },
    {
     "name": "stderr",
     "output_type": "stream",
     "text": [
      "C:\\Users\\NOITE-CITHA\\AppData\\Local\\Temp\\ipykernel_12064\\2187763491.py:11: RuntimeWarning: overflow encountered in scalar add\n",
      "  soma_array = sum(array_num)\n"
     ]
    }
   ],
   "source": [
    "lista = list(range(1,10_000_001))\n",
    "array_num = np.array(range(1,10_000_001))\n",
    "# printar os 2 \n",
    "inicio = time.time()\n",
    "soma_lista = sum(lista)\n",
    "fim = time.time()\n",
    "\n",
    "print('Tempo de excução LISTA:> ',fim-inicio)\n",
    "\n",
    "inicio = time.time()\n",
    "soma_array = sum(array_num)\n",
    "fim = time.time()\n",
    "\n",
    "print('Tempo de excução ARRAY:> ',fim-inicio)\n"
   ]
  },
  {
   "cell_type": "code",
   "execution_count": 15,
   "metadata": {},
   "outputs": [
    {
     "name": "stdout",
     "output_type": "stream",
     "text": [
      "Preços:  [20 40 25 35 30]\n"
     ]
    }
   ],
   "source": [
    "# criando um array de inteiros \n",
    "precos = np.array([20,40,25,35,30])\n",
    "print('Preços: ',precos)"
   ]
  },
  {
   "cell_type": "code",
   "execution_count": 16,
   "metadata": {},
   "outputs": [
    {
     "name": "stdout",
     "output_type": "stream",
     "text": [
      "Valores aumentando:  [22.  44.  27.5 38.5 33. ]\n"
     ]
    }
   ],
   "source": [
    "# aumentando os valores do array em 10% \n",
    "novos_precos = precos * 1.1\n",
    "print('Valores aumentando: ',novos_precos)"
   ]
  },
  {
   "cell_type": "code",
   "execution_count": null,
   "metadata": {},
   "outputs": [
    {
     "name": "stdout",
     "output_type": "stream",
     "text": [
      "Soma:  150\n"
     ]
    }
   ],
   "source": [
    "# soma de todos os preços do array \n",
    "# soma_valores = np.sum(precos)\n",
    "soma_valores = np.sum(precos)\n",
    "print('Soma: ',soma_valores)"
   ]
  },
  {
   "cell_type": "code",
   "execution_count": 19,
   "metadata": {},
   "outputs": [
    {
     "name": "stdout",
     "output_type": "stream",
     "text": [
      "Médio dos valores:  30.0\n"
     ]
    }
   ],
   "source": [
    "# media dos valores do array \n",
    "media_valores = np.mean(precos)\n",
    "print('Médio dos valores: ',media_valores)"
   ]
  },
  {
   "cell_type": "code",
   "execution_count": 20,
   "metadata": {},
   "outputs": [
    {
     "name": "stdout",
     "output_type": "stream",
     "text": [
      "Maior valor:  40\n",
      "Menor valor:  20\n"
     ]
    }
   ],
   "source": [
    "# maior e menor valor do array \n",
    "maior_valor = np.max(precos)\n",
    "menor_valor = np.min(precos)\n",
    "print('Maior valor: ',maior_valor)\n",
    "print('Menor valor: ',menor_valor)"
   ]
  },
  {
   "cell_type": "code",
   "execution_count": 5,
   "metadata": {},
   "outputs": [
    {
     "name": "stdout",
     "output_type": "stream",
     "text": [
      "Numeros aleatorios: \n",
      "[5.17179802 0.21514588 7.67087186 7.63036604]\n"
     ]
    }
   ],
   "source": [
    "# gerando numeros aleatorios  QUEBRADOS\n",
    "rng = np.random.default_rng()\n",
    "print('Numeros aleatorios: ')\n",
    "print(rng.random(4) * 10)"
   ]
  },
  {
   "cell_type": "code",
   "execution_count": null,
   "metadata": {},
   "outputs": [],
   "source": []
  }
 ],
 "metadata": {
  "kernelspec": {
   "display_name": "Python 3",
   "language": "python",
   "name": "python3"
  },
  "language_info": {
   "codemirror_mode": {
    "name": "ipython",
    "version": 3
   },
   "file_extension": ".py",
   "mimetype": "text/x-python",
   "name": "python",
   "nbconvert_exporter": "python",
   "pygments_lexer": "ipython3",
   "version": "3.12.7"
  }
 },
 "nbformat": 4,
 "nbformat_minor": 2
}
