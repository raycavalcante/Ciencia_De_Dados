{
 "cells": [
  {
   "cell_type": "markdown",
   "metadata": {},
   "source": [
    "## exercicio "
   ]
  },
  {
   "cell_type": "code",
   "execution_count": null,
   "metadata": {},
   "outputs": [],
   "source": [
    "# criando a dicionário  com seu valores \n",
    "produto = {\n",
    "    'nome' : 'açai',\n",
    "    'quantidade' : 7,\n",
    "    'preco' : 10,\n",
    "    'marca' : 'bom',\n",
    "    'mistura' : 'sem mistura'\n",
    "} \n",
    "# printando o dicionário \n",
    "print(produto)\n",
    "# adicionando uma nova chave e valor ao dicionário \n",
    "produto['valor_compra'] = 19.7\n",
    "# printando o dicionário com novo elemento\n",
    "print(produto)\n",
    "# procuranda a chave chamada chapolin que não existe \n",
    "chave_chapolin = produto.get('chapolin', 'Não existe essa chave')\n",
    "# printando a variavel que recebe essa informação\n",
    "print(chave_chapolin)\n",
    "# apagando uma chave do dicionário \n",
    "apagar_marca = produto.pop('marca', 'marca apagada')\n",
    "# printando o dicionário \n",
    "print(produto)\n",
    "# print(apagar_marca)\n",
    "# capturando somente as chaves desse dicionário\n",
    "chaves = produto.keys()\n",
    "print(chaves)\n",
    "# capturando somente os valores desse dicionário \n",
    "valores = produto.values()\n",
    "print(valores)"
   ]
  },
  {
   "cell_type": "code",
   "execution_count": 1,
   "metadata": {},
   "outputs": [
    {
     "name": "stdout",
     "output_type": "stream",
     "text": [
      "2.2.2\n"
     ]
    }
   ],
   "source": [
    "import pandas as pd\n",
    "print(pd.__version__)"
   ]
  },
  {
   "cell_type": "code",
   "execution_count": 2,
   "metadata": {},
   "outputs": [
    {
     "name": "stdout",
     "output_type": "stream",
     "text": [
      "1.26.4\n"
     ]
    }
   ],
   "source": [
    "import numpy as np\n",
    "print(np.__version__)"
   ]
  },
  {
   "cell_type": "code",
   "execution_count": null,
   "metadata": {},
   "outputs": [],
   "source": []
  }
 ],
 "metadata": {
  "kernelspec": {
   "display_name": "Python 3",
   "language": "python",
   "name": "python3"
  },
  "language_info": {
   "codemirror_mode": {
    "name": "ipython",
    "version": 3
   },
   "file_extension": ".py",
   "mimetype": "text/x-python",
   "name": "python",
   "nbconvert_exporter": "python",
   "pygments_lexer": "ipython3",
   "version": "3.12.7"
  }
 },
 "nbformat": 4,
 "nbformat_minor": 2
}
