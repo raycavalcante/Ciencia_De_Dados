{
 "cells": [
  {
   "cell_type": "markdown",
   "id": "77585c57-cd47-4b3f-b4c3-4fae01260049",
   "metadata": {},
   "source": [
    "## lista de exercicíos"
   ]
  },
  {
   "cell_type": "code",
   "execution_count": 5,
   "id": "3ca98b12-5ee5-4ff7-8d62-270d33436b4d",
   "metadata": {},
   "outputs": [
    {
     "name": "stdout",
     "output_type": "stream",
     "text": [
      "['lapis', 'caderno', 'pincel']\n",
      "[10.0, 20.0, 2.0]\n"
     ]
    }
   ],
   "source": [
    "# QUES01\n",
    "# criando o lista vazia\n",
    "lista_material_escola = []\n",
    "lista_valor_material = []\n",
    "# usando o loço for para ir adicionando os valores a essa lista\n",
    "for i in range(3):\n",
    "    material = str(input('Entre com o nome do material: '))\n",
    "    lista_material_escola.append(material)\n",
    "for i in range(len(lista_material_escola)):\n",
    "    valor = float(input(f'Entre com o valor do {lista_material_escola[i]}: '))\n",
    "    lista_valor_material.append(valor)\n",
    "\n",
    "# mostrando os valores da lista \n",
    "print(lista_material_escola)\n",
    "print(lista_valor_material)"
   ]
  },
  {
   "cell_type": "code",
   "execution_count": null,
   "id": "2ab014ef-6500-48bb-b954-a9f6ca166a5b",
   "metadata": {},
   "outputs": [
    {
     "name": "stdout",
     "output_type": "stream",
     "text": [
      "O nome do produto com maior preço é o  Caderno que custa R$ 40.0\n"
     ]
    }
   ],
   "source": [
    "# mostrando o nome do produto com maior preço\n",
    "valor = max(lista_valor_material)\n",
    "indice = lista_valor_material.index(valor)\n",
    "print('O nome do produto com maior preço é o ',lista_material_escola[indice],'que custa R$',lista_valor_material[indice])"
   ]
  },
  {
   "cell_type": "code",
   "execution_count": null,
   "id": "c80a0218-eab7-48ed-b525-65a18ec8501e",
   "metadata": {},
   "outputs": [
    {
     "name": "stdout",
     "output_type": "stream",
     "text": [
      "O nome do produto com menor preço é o  Lapís que custa R$ 1.0\n"
     ]
    }
   ],
   "source": [
    "# mostrando o nome do produto com menor preço\n",
    "valor = min(lista_valor_material)\n",
    "indice = lista_valor_material.index(valor)\n",
    "print('O nome do produto com menor preço é o ',lista_material_escola[indice],'que custa R$',lista_valor_material[indice])"
   ]
  },
  {
   "cell_type": "code",
   "execution_count": null,
   "id": "9b8e5eac-e05b-4b0b-b895-bdef1d8eb92d",
   "metadata": {},
   "outputs": [
    {
     "name": "stdout",
     "output_type": "stream",
     "text": [
      "Soma dos preços R$: 44.5\n"
     ]
    }
   ],
   "source": [
    "# soma de todos os preços\n",
    "# import numpy as np\n",
    "soma_precos = sum(lista_valor_material)\n",
    "print('Soma dos preços R$:',soma_precos)"
   ]
  },
  {
   "cell_type": "code",
   "execution_count": null,
   "id": "cd691c18-9bde-45f9-9430-e6cf06b597ca",
   "metadata": {},
   "outputs": [
    {
     "name": "stdout",
     "output_type": "stream",
     "text": [
      "Média dos preços: R$11.12\n"
     ]
    }
   ],
   "source": [
    "# media de todos os preços\n",
    "media_dos_precos = soma_precos / len(lista_valor_material)\n",
    "print(f'Média dos preços: R${media_dos_precos:.2f}')"
   ]
  },
  {
   "cell_type": "code",
   "execution_count": 6,
   "id": "9212d842-67ef-4f18-b2d0-868a435f0ae3",
   "metadata": {},
   "outputs": [
    {
     "name": "stdout",
     "output_type": "stream",
     "text": [
      "Temos 0 preços iguais\n"
     ]
    }
   ],
   "source": [
    "# mostre quantos preços tem iguais\n",
    "cont = 0\n",
    "for i in range(len(lista_valor_material)):\n",
    "    for j in range(len(lista_valor_material)):\n",
    "        if i != j:\n",
    "            if lista_valor_material[i] == lista_valor_material[j]:\n",
    "                cont += 1\n",
    "print(f'Temos {cont} preços iguais')"
   ]
  },
  {
   "cell_type": "code",
   "execution_count": null,
   "id": "0a925541-355a-4fee-b5f1-6daddf3d8968",
   "metadata": {},
   "outputs": [],
   "source": []
  }
 ],
 "metadata": {
  "kernelspec": {
   "display_name": "Python 3",
   "language": "python",
   "name": "python3"
  },
  "language_info": {
   "codemirror_mode": {
    "name": "ipython",
    "version": 3
   },
   "file_extension": ".py",
   "mimetype": "text/x-python",
   "name": "python",
   "nbconvert_exporter": "python",
   "pygments_lexer": "ipython3",
   "version": "3.12.7"
  }
 },
 "nbformat": 4,
 "nbformat_minor": 5
}
