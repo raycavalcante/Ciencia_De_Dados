{
 "cells": [
  {
   "cell_type": "code",
   "execution_count": 2,
   "metadata": {},
   "outputs": [
    {
     "name": "stdout",
     "output_type": "stream",
     "text": [
      "Gabriel\n"
     ]
    }
   ],
   "source": [
    "vulgo = 'Gabriel'\n",
    "idade = 19\n",
    "altura = 1.70\n",
    "print(vulgo)"
   ]
  },
  {
   "cell_type": "code",
   "execution_count": 3,
   "metadata": {},
   "outputs": [
    {
     "name": "stdout",
     "output_type": "stream",
     "text": [
      "Nome: Gabriel\n",
      "Sua idade: 19\n",
      "Sua altura: 1.7\n"
     ]
    }
   ],
   "source": [
    "# dia 08\n",
    "print('Nome: '+vulgo)\n",
    "print('Sua idade: '+str(idade))\n",
    "print('Sua altura: '+str(altura))"
   ]
  },
  {
   "cell_type": "code",
   "execution_count": 4,
   "metadata": {},
   "outputs": [],
   "source": [
    "# ------------------------------------------\n",
    "modelo = 'BIZ' \n",
    "cilindradas = 125\n",
    "pesoTotal = 200\n",
    "valorVenda = 23000\n",
    "anoLançamento = 2025\n",
    "marca = 'HONDA'"
   ]
  },
  {
   "cell_type": "code",
   "execution_count": 5,
   "metadata": {},
   "outputs": [
    {
     "name": "stdout",
     "output_type": "stream",
     "text": [
      "Modelo: BIZ\n",
      "Cilindrada: 125\n",
      "Peso Total: 200\n",
      "Ano lançamento: 2025\n",
      "Marca:  HONDA\n"
     ]
    }
   ],
   "source": [
    "\n",
    "print('Modelo: '+str(modelo))\n",
    "print('Cilindrada: '+str(cilindradas))\n",
    "print('Peso Total: '+str(pesoTotal))\n",
    "print('Ano lançamento: '+str(anoLançamento))\n",
    "print('Marca:  '+str(marca))"
   ]
  }
 ],
 "metadata": {
  "kernelspec": {
   "display_name": "Python 3",
   "language": "python",
   "name": "python3"
  },
  "language_info": {
   "codemirror_mode": {
    "name": "ipython",
    "version": 3
   },
   "file_extension": ".py",
   "mimetype": "text/x-python",
   "name": "python",
   "nbconvert_exporter": "python",
   "pygments_lexer": "ipython3",
   "version": "3.12.7"
  }
 },
 "nbformat": 4,
 "nbformat_minor": 2
}
